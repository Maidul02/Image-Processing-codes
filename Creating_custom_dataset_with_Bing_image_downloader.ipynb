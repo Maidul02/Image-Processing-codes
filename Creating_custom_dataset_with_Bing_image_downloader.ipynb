{
  "nbformat": 4,
  "nbformat_minor": 0,
  "metadata": {
    "colab": {
      "name": "Creating custom dataset with Bing image downloader.ipynb",
      "provenance": [],
      "authorship_tag": "ABX9TyMFHv2sO45C12eyYllqukhO",
      "include_colab_link": true
    },
    "kernelspec": {
      "name": "python3",
      "display_name": "Python 3"
    },
    "language_info": {
      "name": "python"
    }
  },
  "cells": [
    {
      "cell_type": "markdown",
      "metadata": {
        "id": "view-in-github",
        "colab_type": "text"
      },
      "source": [
        "<a href=\"https://colab.research.google.com/github/Maidul02/Image-Processing-codes/blob/main/Creating_custom_dataset_with_Bing_image_downloader.ipynb\" target=\"_parent\"><img src=\"https://colab.research.google.com/assets/colab-badge.svg\" alt=\"Open In Colab\"/></a>"
      ]
    },
    {
      "cell_type": "code",
      "execution_count": null,
      "metadata": {
        "id": "JBp20ZvTMHs3"
      },
      "outputs": [],
      "source": [
        "!pip install bing-image-downloader"
      ]
    },
    {
      "cell_type": "code",
      "source": [
        "!mkdir images"
      ],
      "metadata": {
        "id": "eQ18CC9_Mkqq"
      },
      "execution_count": null,
      "outputs": []
    },
    {
      "cell_type": "code",
      "source": [
        "from bing_image_downloader import downloader\n",
        "downloader.download(\"Yellow Safety Vest\",limit=100,output_dir=\"images\")"
      ],
      "metadata": {
        "id": "QW_vr3YXMour"
      },
      "execution_count": null,
      "outputs": []
    },
    {
      "cell_type": "code",
      "source": [
        "from bing_image_downloader import downloader\n",
        "downloader.download(\"ANSI Class 2 Safety Vests\",limit=100,output_dir=\"images\")"
      ],
      "metadata": {
        "id": "pWj73p5gN0Vz"
      },
      "execution_count": null,
      "outputs": []
    },
    {
      "cell_type": "code",
      "source": [
        "from bing_image_downloader import downloader\n",
        "downloader.download(\"Orange Safety Vest\",limit=100,output_dir=\"images\")"
      ],
      "metadata": {
        "id": "hRnoga-uOMyR"
      },
      "execution_count": null,
      "outputs": []
    },
    {
      "cell_type": "code",
      "source": [
        "from bing_image_downloader import downloader\n",
        "downloader.download(\"Green Safety Vest\",limit=100,output_dir=\"images\")"
      ],
      "metadata": {
        "id": "j-4SEQoUOliH"
      },
      "execution_count": null,
      "outputs": []
    },
    {
      "cell_type": "code",
      "source": [
        "!zip -r /content/images.zip /content/images"
      ],
      "metadata": {
        "id": "j6cnI3ptQUhm"
      },
      "execution_count": null,
      "outputs": []
    },
    {
      "cell_type": "code",
      "source": [
        "from google.colab import files\n",
        "files.download(\"/content/images.zip\")"
      ],
      "metadata": {
        "id": "UAZpy7dNQplB"
      },
      "execution_count": null,
      "outputs": []
    }
  ]
}