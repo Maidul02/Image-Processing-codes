{
  "nbformat": 4,
  "nbformat_minor": 0,
  "metadata": {
    "colab": {
      "name": "Data Augmentation from Google drive Folder",
      "provenance": [],
      "collapsed_sections": [],
      "authorship_tag": "ABX9TyP2NLH4eK1fyToP7i1EahJq",
      "include_colab_link": true
    },
    "kernelspec": {
      "name": "python3",
      "display_name": "Python 3"
    },
    "language_info": {
      "name": "python"
    }
  },
  "cells": [
    {
      "cell_type": "markdown",
      "metadata": {
        "id": "view-in-github",
        "colab_type": "text"
      },
      "source": [
        "<a href=\"https://colab.research.google.com/github/Maidul02/Image-Processing-codes/blob/main/Data_Augmentation_from_Google_drive_Folder.ipynb\" target=\"_parent\"><img src=\"https://colab.research.google.com/assets/colab-badge.svg\" alt=\"Open In Colab\"/></a>"
      ]
    },
    {
      "cell_type": "code",
      "execution_count": null,
      "metadata": {
        "id": "PZ3CA6pgOqIM"
      },
      "outputs": [],
      "source": [
        "from google.colab import drive\n",
        "drive.mount('/content/drive')"
      ]
    },
    {
      "cell_type": "code",
      "source": [
        "import os\n",
        "\n",
        "#Removing Green Safety Vest non JPG files\n",
        "local_download_path = \"/content/drive/MyDrive/images/Green Safety Vest\"\n",
        "\n",
        "for filename in os.listdir(local_download_path):\n",
        "  file_path = os.path.join(local_download_path,filename)\n",
        "  if not (filename.endswith(\"jpg\") or filename.endswith(\"JPG\")):\n",
        "    os.remove(file_path)\n",
        "\n",
        "\n",
        "#Removing Orange Safety Vest non JPG files\n",
        "local_download_path = \"/content/drive/MyDrive/images/Orange Safety Vest\"\n",
        "\n",
        "for filename in os.listdir(local_download_path):\n",
        "  file_path = os.path.join(local_download_path,filename)\n",
        "  if not (filename.endswith(\"jpg\") or filename.endswith(\"JPG\")):\n",
        "    os.remove(file_path)\n",
        "\n",
        "\n",
        "#Removing Yellow Safety Vest non JPG files\n",
        "local_download_path = \"/content/drive/MyDrive/images/Yellow Safety Vest\"\n",
        "\n",
        "for filename in os.listdir(local_download_path):\n",
        "  file_path = os.path.join(local_download_path,filename)\n",
        "  if not (filename.endswith(\"jpg\") or filename.endswith(\"JPG\")):\n",
        "    os.remove(file_path)\n",
        "\n",
        "\n",
        "#Removing ANSI Class 2 Safety Vest non JPG files\n",
        "# local_download_path = \"/content/drive/MyDrive/images/ANSI Class 2 Safety Vests\"\n",
        "\n",
        "# for filename in os.listdir(local_download_path):\n",
        "#   file_path = os.path.join(local_download_path,filename)\n",
        "#   if not (filename.endswith(\"jpg\") or filename.endswith(\"JPG\")):\n",
        "#     os.remove(file_path)"
      ],
      "metadata": {
        "id": "Qhb7TLhiO5J9"
      },
      "execution_count": 5,
      "outputs": []
    },
    {
      "cell_type": "code",
      "source": [
        "##################################################\n",
        "##################################################\n",
        "##################################################"
      ],
      "metadata": {
        "id": "84Jt5IffXapg"
      },
      "execution_count": 6,
      "outputs": []
    },
    {
      "cell_type": "code",
      "source": [
        "#Creating directory in Google drive\n",
        "\n",
        "path = \"/content/drive/MyDrive/images/Augmented Green\"\n",
        "os.mkdir(path)\n",
        "path = \"/content/drive/MyDrive/images/Augmented Orange\"\n",
        "os.mkdir(path)\n",
        "path = \"/content/drive/MyDrive/images/Augmented Yellow\"\n",
        "os.mkdir(path)\n",
        "# path = \"/content/drive/MyDrive/images/Augmented ANSI\"\n",
        "# os.mkdir(path)"
      ],
      "metadata": {
        "id": "A4PdKHabYKYK"
      },
      "execution_count": null,
      "outputs": []
    },
    {
      "cell_type": "code",
      "source": [
        "#Data augmentation part for Green vest\n",
        "\n",
        "from keras.preprocessing.image import ImageDataGenerator, array_to_img, img_to_array, load_img\n",
        "\n",
        "datagen = ImageDataGenerator(\n",
        "        rotation_range=40,\n",
        "        width_shift_range=0.2,\n",
        "        height_shift_range=0.2,\n",
        "        shear_range=0.2,\n",
        "        zoom_range=0.2,\n",
        "        horizontal_flip=True,\n",
        "        fill_mode='nearest')\n",
        "\n",
        "#Augmentation of Green\n",
        "local_download_path = \"/content/drive/MyDrive/images/Green Safety Vest\"\n",
        "\n",
        "for filename in os.listdir(local_download_path):\n",
        "  img = load_img(os.path.join(local_download_path,filename))\n",
        "  x = img_to_array(img)  # this is a Numpy array with shape (3, 150, 150)\n",
        "  x = x.reshape((1,) + x.shape)  # this is a Numpy array with shape (1, 3, 150, 150)\n",
        "  i = 0\n",
        "  for batch in datagen.flow(x, batch_size=1, save_to_dir='/content/drive/MyDrive/images/Augmented Green', save_prefix='Green', save_format='jpg'):\n",
        "      i += 1\n",
        "      if i > 50:\n",
        "          break  # otherwise the generator would loop indefinitely"
      ],
      "metadata": {
        "id": "J0gJK4AXZVFJ"
      },
      "execution_count": 14,
      "outputs": []
    },
    {
      "cell_type": "code",
      "source": [
        "#Data augmentation part for Orange vest\n",
        "\n",
        "from keras.preprocessing.image import ImageDataGenerator, array_to_img, img_to_array, load_img\n",
        "\n",
        "datagen = ImageDataGenerator(\n",
        "        rotation_range=40,\n",
        "        width_shift_range=0.2,\n",
        "        height_shift_range=0.2,\n",
        "        shear_range=0.2,\n",
        "        zoom_range=0.2,\n",
        "        horizontal_flip=True,\n",
        "        fill_mode='nearest')\n",
        "\n",
        "#Augmentation of Green\n",
        "local_download_path = \"/content/drive/MyDrive/images/Orange Safety Vest\"\n",
        "\n",
        "for filename in os.listdir(local_download_path):\n",
        "  img = load_img(os.path.join(local_download_path,filename))\n",
        "  x = img_to_array(img)  # this is a Numpy array with shape (3, 150, 150)\n",
        "  x = x.reshape((1,) + x.shape)  # this is a Numpy array with shape (1, 3, 150, 150)\n",
        "  i = 0\n",
        "  for batch in datagen.flow(x, batch_size=1, save_to_dir='/content/drive/MyDrive/images/Augmented Orange', save_prefix='Orange', save_format='jpg'):\n",
        "      i += 1\n",
        "      if i > 50:\n",
        "          break  # otherwise the generator would loop indefinitely"
      ],
      "metadata": {
        "id": "Oa5s4nVco9EZ"
      },
      "execution_count": 15,
      "outputs": []
    },
    {
      "cell_type": "code",
      "source": [
        "#Data augmentation part for Yellow vest\n",
        "\n",
        "from keras.preprocessing.image import ImageDataGenerator, array_to_img, img_to_array, load_img\n",
        "\n",
        "datagen = ImageDataGenerator(\n",
        "        rotation_range=40,\n",
        "        width_shift_range=0.2,\n",
        "        height_shift_range=0.2,\n",
        "        shear_range=0.2,\n",
        "        zoom_range=0.2,\n",
        "        horizontal_flip=True,\n",
        "        fill_mode='nearest')\n",
        "\n",
        "#Augmentation of Green\n",
        "local_download_path = \"/content/drive/MyDrive/images/Yellow Safety Vest\"\n",
        "\n",
        "for filename in os.listdir(local_download_path):\n",
        "  img = load_img(os.path.join(local_download_path,filename))\n",
        "  x = img_to_array(img)  # this is a Numpy array with shape (3, 150, 150)\n",
        "  x = x.reshape((1,) + x.shape)  # this is a Numpy array with shape (1, 3, 150, 150)\n",
        "  i = 0\n",
        "  for batch in datagen.flow(x, batch_size=1, save_to_dir='/content/drive/MyDrive/images/Augmented Yellow', save_prefix='Yellow', save_format='jpg'):\n",
        "      i += 1\n",
        "      if i > 50:\n",
        "          break  # otherwise the generator would loop indefinitely"
      ],
      "metadata": {
        "id": "oiATkW6rqt7Q"
      },
      "execution_count": 16,
      "outputs": []
    },
    {
      "cell_type": "code",
      "source": [
        "# #Data augmentation part for ANSI Class 2 vest\n",
        "\n",
        "# from keras.preprocessing.image import ImageDataGenerator, array_to_img, img_to_array, load_img\n",
        "\n",
        "# datagen = ImageDataGenerator(\n",
        "#         rotation_range=40,\n",
        "#         width_shift_range=0.2,\n",
        "#         height_shift_range=0.2,\n",
        "#         shear_range=0.2,\n",
        "#         zoom_range=0.2,\n",
        "#         horizontal_flip=True,\n",
        "#         fill_mode='nearest')\n",
        "\n",
        "# #Augmentation of Green\n",
        "# local_download_path = \"/content/drive/MyDrive/images/ANSI Class 2 Safety Vests\"\n",
        "\n",
        "# for filename in os.listdir(local_download_path):\n",
        "#   img = load_img(os.path.join(local_download_path,filename))\n",
        "#   x = img_to_array(img)  # this is a Numpy array with shape (3, 150, 150)\n",
        "#   x = x.reshape((1,) + x.shape)  # this is a Numpy array with shape (1, 3, 150, 150)\n",
        "#   i = 0\n",
        "#   for batch in datagen.flow(x, batch_size=1, save_to_dir='/content/drive/MyDrive/images/Augmented ANSI', save_prefix='ANSI', save_format='jpg'):\n",
        "#       i += 1\n",
        "#       if i > 50:\n",
        "#           break  # otherwise the generator would loop indefinitely"
      ],
      "metadata": {
        "id": "9rGWwzHeq2Be"
      },
      "execution_count": null,
      "outputs": []
    }
  ]
}