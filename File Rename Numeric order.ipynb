{
 "cells": [
  {
   "cell_type": "code",
   "execution_count": 1,
   "id": "44acd5c5-8e59-46f1-b2f7-3bbcc057773a",
   "metadata": {},
   "outputs": [],
   "source": [
    "import os"
   ]
  },
  {
   "cell_type": "code",
   "execution_count": 14,
   "id": "bb5f1aed-a021-4b40-9c69-eab2bb577b76",
   "metadata": {},
   "outputs": [],
   "source": [
    "file_loc = \"E:/images\"\n",
    "count = 1\n",
    "for file in os.listdir(file_loc):\n",
    "    full_path = os.path.join(file_loc,file)\n",
    "    new_path = os.path.join(file_loc,str(count)+\".jpg\")\n",
    "    os.rename(full_path,new_path)\n",
    "    count+=1"
   ]
  }
 ],
 "metadata": {
  "kernelspec": {
   "display_name": "Python 3 (ipykernel)",
   "language": "python",
   "name": "python3"
  },
  "language_info": {
   "codemirror_mode": {
    "name": "ipython",
    "version": 3
   },
   "file_extension": ".py",
   "mimetype": "text/x-python",
   "name": "python",
   "nbconvert_exporter": "python",
   "pygments_lexer": "ipython3",
   "version": "3.10.4"
  }
 },
 "nbformat": 4,
 "nbformat_minor": 5
}
