{
  "nbformat": 4,
  "nbformat_minor": 0,
  "metadata": {
    "colab": {
      "name": "Python script to filter only Vest Labels from CHV dataset.ipynb",
      "provenance": [],
      "mount_file_id": "1Fd7_gmXCQP7qfVCzTQ_E8jzNlh_TW39A",
      "authorship_tag": "ABX9TyPEqmz0ZXY6xmLLXKyQY2y5",
      "include_colab_link": true
    },
    "kernelspec": {
      "name": "python3",
      "display_name": "Python 3"
    },
    "language_info": {
      "name": "python"
    }
  },
  "cells": [
    {
      "cell_type": "markdown",
      "metadata": {
        "id": "view-in-github",
        "colab_type": "text"
      },
      "source": [
        "<a href=\"https://colab.research.google.com/github/Maidul02/Image-Processing-codes/blob/main/Python_script_to_filter_only_Vest_Labels_from_CHV_dataset.ipynb\" target=\"_parent\"><img src=\"https://colab.research.google.com/assets/colab-badge.svg\" alt=\"Open In Colab\"/></a>"
      ]
    },
    {
      "cell_type": "code",
      "execution_count": 1,
      "metadata": {
        "id": "CcgXiY_EOQs0"
      },
      "outputs": [],
      "source": [
        "import os"
      ]
    },
    {
      "cell_type": "code",
      "source": [
        "local_path = \"/content/drive/MyDrive/yolov5_missing_worker/dataset/labels/train\"\n",
        "count = 0\n",
        "for file in os.listdir(local_path):\n",
        "  file_path = os.path.join(local_path,file)\n",
        "  if file.endswith(\".txt\"):\n",
        "    f = open(file_path,'r')\n",
        "    temp = \"\"\n",
        "    for x in f:\n",
        "      x = x.split(\" \")\n",
        "      # x[0] = 0\n",
        "      for i in range(1,len(x)):\n",
        "        x[i] = float(x[i])\n",
        "      if x[0]=='1':\n",
        "        for i in x:\n",
        "          temp+=str(i)\n",
        "          temp+=\" \"\n",
        "        temp = temp[:-1]\n",
        "        temp+=\"\\n\"\n",
        "    f = open(file_path,'w')\n",
        "    f.truncate(0)\n",
        "    # \n",
        "    temp = temp.rstrip()\n",
        "    f.write(temp)\n",
        "    print(temp)\n",
        "    f.close()"
      ],
      "metadata": {
        "id": "2cjZP-X1O-7Q"
      },
      "execution_count": null,
      "outputs": []
    },
    {
      "cell_type": "code",
      "source": [
        "local_path = \"/content/drive/MyDrive/yolov5_missing_worker/dataset/labels/val\"\n",
        "count = 0\n",
        "for file in os.listdir(local_path):\n",
        "  file_path = os.path.join(local_path,file)\n",
        "  if file.endswith(\".txt\") and not(file==\"classes.txt\"):\n",
        "    f = open(file_path,'r')\n",
        "    temp = \"\"\n",
        "    for x in f:\n",
        "      x = x.split(\" \")\n",
        "      x[0] = 0\n",
        "      for i in range(1,len(x)):\n",
        "        x[i] = float(x[i])\n",
        "      for i in x:\n",
        "        temp+=str(i)\n",
        "        temp+=\" \"\n",
        "      temp = temp[:-1]\n",
        "      temp+=\"\\n\"\n",
        "    f = open(file_path,'w')\n",
        "    f.truncate(0)\n",
        "    temp = temp.rstrip()\n",
        "    f.write(temp)\n",
        "    f.close()"
      ],
      "metadata": {
        "id": "KXLyB_7tcj8Z"
      },
      "execution_count": null,
      "outputs": []
    }
  ]
}