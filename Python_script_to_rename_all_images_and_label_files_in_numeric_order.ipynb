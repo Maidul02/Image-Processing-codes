{
  "nbformat": 4,
  "nbformat_minor": 0,
  "metadata": {
    "colab": {
      "name": "Python script to rename all images and label files in numeric order.ipynb",
      "provenance": [],
      "mount_file_id": "1GLqM4S16-_ypxu7Ama4K6OFmqt_1B0sf",
      "authorship_tag": "ABX9TyPkexLI3TOfB9RRkcNoJhP+",
      "include_colab_link": true
    },
    "kernelspec": {
      "name": "python3",
      "display_name": "Python 3"
    },
    "language_info": {
      "name": "python"
    }
  },
  "cells": [
    {
      "cell_type": "markdown",
      "metadata": {
        "id": "view-in-github",
        "colab_type": "text"
      },
      "source": [
        "<a href=\"https://colab.research.google.com/github/Maidul02/Image-Processing-codes/blob/main/Python_script_to_rename_all_images_and_label_files_in_numeric_order.ipynb\" target=\"_parent\"><img src=\"https://colab.research.google.com/assets/colab-badge.svg\" alt=\"Open In Colab\"/></a>"
      ]
    },
    {
      "cell_type": "code",
      "execution_count": 2,
      "metadata": {
        "id": "Fnk8k1OEKkod"
      },
      "outputs": [],
      "source": [
        "#Python script to rename all images and label txt files in numeric order\n",
        "import os"
      ]
    },
    {
      "cell_type": "code",
      "source": [
        "file_loc_image = \"/content/drive/MyDrive/CHV/images\"\n",
        "file_loc_txt = \"/content/drive/MyDrive/CHV/annotations\"\n",
        "\n",
        "count = 1\n",
        "\n",
        "for img in os.listdir(file_loc_image):\n",
        "  only_name = img[:-4]\n",
        "  old_name_img = os.path.join(file_loc_image,img)\n",
        "  new_name_img = os.path.join(file_loc_image,str(count)+\".jpg\")\n",
        "\n",
        "  old_name_txt = os.path.join(file_loc_txt,only_name+'.txt')\n",
        "  new_name_txt = os.path.join(file_loc_txt,str(count)+'.txt')\n",
        "\n",
        "\n",
        "\n",
        "\n",
        "  os.rename(old_name_img,new_name_img)\n",
        "  os.rename(old_name_txt,new_name_txt)\n",
        "\n",
        "  print(old_name_img)\n",
        "  print(new_name_img)\n",
        "  print()\n",
        "  print(old_name_txt)\n",
        "  print(new_name_txt)\n",
        "  count+=1\n",
        "\n",
        "\n"
      ],
      "metadata": {
        "colab": {
          "base_uri": "https://localhost:8080/"
        },
        "id": "etAmysNOg7uN",
        "outputId": "89faed1b-af13-4907-feb0-49095504870f"
      },
      "execution_count": 4,
      "outputs": [
        {
          "output_type": "stream",
          "name": "stdout",
          "text": [
            "/content/drive/MyDrive/CHV/images/1.jpg\n",
            "/content/drive/MyDrive/CHV/images/1.jpg\n",
            "\n",
            "/content/drive/MyDrive/CHV/annotations/1.txt\n",
            "/content/drive/MyDrive/CHV/annotations/1.txt\n"
          ]
        }
      ]
    }
  ]
}