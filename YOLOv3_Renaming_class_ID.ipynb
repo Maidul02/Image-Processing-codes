{
  "nbformat": 4,
  "nbformat_minor": 0,
  "metadata": {
    "colab": {
      "name": "YOLOv3 Renaming class ID.ipynb",
      "provenance": [],
      "authorship_tag": "ABX9TyN/elAGzg5dTG2b93pmSAeX",
      "include_colab_link": true
    },
    "kernelspec": {
      "name": "python3",
      "display_name": "Python 3"
    },
    "language_info": {
      "name": "python"
    }
  },
  "cells": [
    {
      "cell_type": "markdown",
      "metadata": {
        "id": "view-in-github",
        "colab_type": "text"
      },
      "source": [
        "<a href=\"https://colab.research.google.com/github/Maidul02/Image-Processing-codes/blob/main/YOLOv3_Renaming_class_ID.ipynb\" target=\"_parent\"><img src=\"https://colab.research.google.com/assets/colab-badge.svg\" alt=\"Open In Colab\"/></a>"
      ]
    },
    {
      "cell_type": "code",
      "execution_count": 50,
      "metadata": {
        "colab": {
          "base_uri": "https://localhost:8080/"
        },
        "id": "yKuTJFDGx---",
        "outputId": "578f76f1-ac69-486e-8085-7d3ac662b571"
      },
      "outputs": [
        {
          "output_type": "stream",
          "name": "stdout",
          "text": [
            "Drive already mounted at /content/drive; to attempt to forcibly remount, call drive.mount(\"/content/drive\", force_remount=True).\n"
          ]
        }
      ],
      "source": [
        "from google.colab import drive\n",
        "drive.mount(\"/content/drive\")"
      ]
    },
    {
      "cell_type": "code",
      "source": [
        "import os"
      ],
      "metadata": {
        "id": "bOkYtHiuyjkz"
      },
      "execution_count": 51,
      "outputs": []
    },
    {
      "cell_type": "code",
      "source": [
        "local_path = \"/content/drive/MyDrive/RenameFile\"\n",
        "count = 0\n",
        "for file in os.listdir(local_path):\n",
        "  file_path = os.path.join(local_path,file)\n",
        "  if file.endswith(\".txt\") and not(file==\"classes.txt\"):\n",
        "    f = open(file_path,'r')\n",
        "    temp = \"\"\n",
        "    for x in f:\n",
        "      x = x.split(\" \")\n",
        "      x[0] = 0\n",
        "      for i in range(1,len(x)):\n",
        "        x[i] = float(x[i])\n",
        "      for i in x:\n",
        "        temp+=str(i)\n",
        "        temp+=\" \"\n",
        "      temp = temp[:-1]\n",
        "      temp+=\"\\n\"\n",
        "    f = open(file_path,'w')\n",
        "    f.truncate(0)\n",
        "    f.write(temp)\n",
        "    f.close()"
      ],
      "metadata": {
        "id": "eX4zFiByymPL"
      },
      "execution_count": 53,
      "outputs": []
    },
    {
      "cell_type": "code",
      "source": [
        ""
      ],
      "metadata": {
        "id": "hgoeTqKx428S"
      },
      "execution_count": null,
      "outputs": []
    }
  ]
}